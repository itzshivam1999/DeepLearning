{
 "cells": [
  {
   "cell_type": "code",
   "execution_count": 1,
   "metadata": {
    "execution": {
     "iopub.execute_input": "2025-06-01T08:19:13.471556Z",
     "iopub.status.busy": "2025-06-01T08:19:13.471282Z",
     "iopub.status.idle": "2025-06-01T08:19:28.175323Z",
     "shell.execute_reply": "2025-06-01T08:19:28.174419Z",
     "shell.execute_reply.started": "2025-06-01T08:19:13.471536Z"
    },
    "id": "hNmyBYRjcEyy"
   },
   "outputs": [
    {
     "name": "stderr",
     "output_type": "stream",
     "text": [
      "2025-06-01 08:19:15.075531: E external/local_xla/xla/stream_executor/cuda/cuda_fft.cc:477] Unable to register cuFFT factory: Attempting to register factory for plugin cuFFT when one has already been registered\n",
      "WARNING: All log messages before absl::InitializeLog() is called are written to STDERR\n",
      "E0000 00:00:1748765955.282726      35 cuda_dnn.cc:8310] Unable to register cuDNN factory: Attempting to register factory for plugin cuDNN when one has already been registered\n",
      "E0000 00:00:1748765955.352134      35 cuda_blas.cc:1418] Unable to register cuBLAS factory: Attempting to register factory for plugin cuBLAS when one has already been registered\n"
     ]
    }
   ],
   "source": [
    "import numpy as np\n",
    "import tensorflow as tf\n",
    "import pandas as pd\n",
    "from tensorflow.keras.preprocessing.text     import Tokenizer\n",
    "from tensorflow.keras.preprocessing.sequence import pad_sequences\n",
    "from tensorflow.keras.models import Sequential\n",
    "from tensorflow.keras.layers import Embedding,LSTM,Dense"
   ]
  },
  {
   "cell_type": "code",
   "execution_count": 2,
   "metadata": {
    "execution": {
     "iopub.execute_input": "2025-06-01T08:19:28.176561Z",
     "iopub.status.busy": "2025-06-01T08:19:28.176163Z",
     "iopub.status.idle": "2025-06-01T08:19:28.186582Z",
     "shell.execute_reply": "2025-06-01T08:19:28.185615Z",
     "shell.execute_reply.started": "2025-06-01T08:19:28.176543Z"
    }
   },
   "outputs": [],
   "source": [
    "with open(\"/kaggle/input/indian-higher/The Indian higher education system .txt\", 'r', \n",
    "          encoding='utf-8') as myfile:\n",
    "    mytext = myfile.read()"
   ]
  },
  {
   "cell_type": "code",
   "execution_count": 3,
   "metadata": {
    "execution": {
     "iopub.execute_input": "2025-06-01T08:19:28.188851Z",
     "iopub.status.busy": "2025-06-01T08:19:28.188384Z",
     "iopub.status.idle": "2025-06-01T08:19:28.278402Z",
     "shell.execute_reply": "2025-06-01T08:19:28.277635Z",
     "shell.execute_reply.started": "2025-06-01T08:19:28.188825Z"
    }
   },
   "outputs": [
    {
     "data": {
      "text/plain": [
       "'The Indian higher education system is a vast and intricate network comprising universities, colleges, and institutions spread across the length and breadth of the country. Renowned for its diversity and depth, it caters to millions of students aspiring for academic excellence in various fields.\\n\\nAt its core, the system is structured around universities, both central and state, which offer a wide range of undergraduate, postgraduate, and doctoral programs. These universities serve as hubs of learning, research, and innovation, providing students with a platform to explore their interests and pursue their passions.\\n\\nOne of the defining features of the Indian higher education system is its emphasis on specialized disciplines, ranging from engineering, medicine, and science to humanities, social sciences, and commerce. This diversity enables students to choose courses tailored to their career aspirations and academic interests, fostering a culture of multidisciplinary learning and holistic development.\\n\\nMoreover, the system is characterized by a blend of traditional and modern approaches to education. While institutions uphold age-old traditions and values, they also embrace innovation and technology to adapt to the evolving needs of the 21st century. This synthesis of the old and the new creates a dynamic learning environment that encourages critical thinking, creativity, and problem-solving skills among students.\\n\\nDespite its strengths, the Indian higher education system faces several challenges, including issues of accessibility, quality, and equity. Disparities in infrastructure, faculty resources, and funding often hinder the aspirations of marginalized communities and underprivileged students, exacerbating existing inequalities.\\n\\nNevertheless, efforts are underway to address these challenges and transform the higher education landscape. Initiatives such as the establishment of new institutions, expansion of existing ones, and the promotion of online learning platforms aim to enhance access and inclusivity. Additionally, collaborations with international universities, research institutions, and industry partners seek to raise standards of excellence and promote global competitiveness.\\n\\nIn conclusion, the Indian higher education system is a vibrant tapestry of knowledge, innovation, and opportunity. As it continues to evolve and adapt to the changing needs of society, it holds the promise of empowering generations of students to realize their full potential and contribute meaningfully to the advancement of knowledge and the betterment of society.'"
      ]
     },
     "execution_count": 3,
     "metadata": {},
     "output_type": "execute_result"
    }
   ],
   "source": [
    "mytext"
   ]
  },
  {
   "cell_type": "code",
   "execution_count": 4,
   "metadata": {
    "execution": {
     "iopub.execute_input": "2025-06-01T08:19:28.279286Z",
     "iopub.status.busy": "2025-06-01T08:19:28.279093Z",
     "iopub.status.idle": "2025-06-01T08:19:28.289982Z",
     "shell.execute_reply": "2025-06-01T08:19:28.289272Z",
     "shell.execute_reply.started": "2025-06-01T08:19:28.279269Z"
    },
    "id": "lbKRze46eGF2"
   },
   "outputs": [],
   "source": [
    "myTokenizer=Tokenizer()\n",
    "myTokenizer.fit_on_texts([mytext])\n",
    "total_words=len(myTokenizer.word_index)+1"
   ]
  },
  {
   "cell_type": "code",
   "execution_count": 5,
   "metadata": {
    "colab": {
     "base_uri": "https://localhost:8080/",
     "height": 0
    },
    "execution": {
     "iopub.execute_input": "2025-06-01T08:19:28.290748Z",
     "iopub.status.busy": "2025-06-01T08:19:28.290555Z",
     "iopub.status.idle": "2025-06-01T08:19:28.302622Z",
     "shell.execute_reply": "2025-06-01T08:19:28.301846Z",
     "shell.execute_reply.started": "2025-06-01T08:19:28.290734Z"
    },
    "id": "GYSPrxv6eoG-",
    "outputId": "6074df14-9193-43b1-ceb0-163cbe086730"
   },
   "outputs": [
    {
     "data": {
      "text/plain": [
       "205"
      ]
     },
     "execution_count": 5,
     "metadata": {},
     "output_type": "execute_result"
    }
   ],
   "source": [
    "total_words"
   ]
  },
  {
   "cell_type": "code",
   "execution_count": 6,
   "metadata": {
    "colab": {
     "base_uri": "https://localhost:8080/",
     "height": 0
    },
    "execution": {
     "iopub.execute_input": "2025-06-01T08:19:28.304285Z",
     "iopub.status.busy": "2025-06-01T08:19:28.303584Z",
     "iopub.status.idle": "2025-06-01T08:19:28.318248Z",
     "shell.execute_reply": "2025-06-01T08:19:28.317552Z",
     "shell.execute_reply.started": "2025-06-01T08:19:28.304268Z"
    },
    "id": "3mP9oWzCepWq",
    "outputId": "b8ec4c01-1430-46d9-8d26-6bbecc0cdc5b"
   },
   "outputs": [
    {
     "data": {
      "text/plain": [
       "{'and': 1,\n",
       " 'of': 2,\n",
       " 'the': 3,\n",
       " 'to': 4,\n",
       " 'a': 5,\n",
       " 'education': 6,\n",
       " 'system': 7,\n",
       " 'students': 8,\n",
       " 'higher': 9,\n",
       " 'is': 10,\n",
       " 'indian': 11,\n",
       " 'universities': 12,\n",
       " 'institutions': 13,\n",
       " 'its': 14,\n",
       " 'learning': 15,\n",
       " 'their': 16,\n",
       " 'it': 17,\n",
       " 'in': 18,\n",
       " 'as': 19,\n",
       " 'innovation': 20,\n",
       " 'for': 21,\n",
       " 'diversity': 22,\n",
       " 'academic': 23,\n",
       " 'excellence': 24,\n",
       " 'these': 25,\n",
       " 'research': 26,\n",
       " 'with': 27,\n",
       " 'interests': 28,\n",
       " 'this': 29,\n",
       " 'aspirations': 30,\n",
       " 'old': 31,\n",
       " 'adapt': 32,\n",
       " 'needs': 33,\n",
       " 'new': 34,\n",
       " 'challenges': 35,\n",
       " 'existing': 36,\n",
       " 'knowledge': 37,\n",
       " 'society': 38,\n",
       " 'vast': 39,\n",
       " 'intricate': 40,\n",
       " 'network': 41,\n",
       " 'comprising': 42,\n",
       " 'colleges': 43,\n",
       " 'spread': 44,\n",
       " 'across': 45,\n",
       " 'length': 46,\n",
       " 'breadth': 47,\n",
       " 'country': 48,\n",
       " 'renowned': 49,\n",
       " 'depth': 50,\n",
       " 'caters': 51,\n",
       " 'millions': 52,\n",
       " 'aspiring': 53,\n",
       " 'various': 54,\n",
       " 'fields': 55,\n",
       " 'at': 56,\n",
       " 'core': 57,\n",
       " 'structured': 58,\n",
       " 'around': 59,\n",
       " 'both': 60,\n",
       " 'central': 61,\n",
       " 'state': 62,\n",
       " 'which': 63,\n",
       " 'offer': 64,\n",
       " 'wide': 65,\n",
       " 'range': 66,\n",
       " 'undergraduate': 67,\n",
       " 'postgraduate': 68,\n",
       " 'doctoral': 69,\n",
       " 'programs': 70,\n",
       " 'serve': 71,\n",
       " 'hubs': 72,\n",
       " 'providing': 73,\n",
       " 'platform': 74,\n",
       " 'explore': 75,\n",
       " 'pursue': 76,\n",
       " 'passions': 77,\n",
       " 'one': 78,\n",
       " 'defining': 79,\n",
       " 'features': 80,\n",
       " 'emphasis': 81,\n",
       " 'on': 82,\n",
       " 'specialized': 83,\n",
       " 'disciplines': 84,\n",
       " 'ranging': 85,\n",
       " 'from': 86,\n",
       " 'engineering': 87,\n",
       " 'medicine': 88,\n",
       " 'science': 89,\n",
       " 'humanities': 90,\n",
       " 'social': 91,\n",
       " 'sciences': 92,\n",
       " 'commerce': 93,\n",
       " 'enables': 94,\n",
       " 'choose': 95,\n",
       " 'courses': 96,\n",
       " 'tailored': 97,\n",
       " 'career': 98,\n",
       " 'fostering': 99,\n",
       " 'culture': 100,\n",
       " 'multidisciplinary': 101,\n",
       " 'holistic': 102,\n",
       " 'development': 103,\n",
       " 'moreover': 104,\n",
       " 'characterized': 105,\n",
       " 'by': 106,\n",
       " 'blend': 107,\n",
       " 'traditional': 108,\n",
       " 'modern': 109,\n",
       " 'approaches': 110,\n",
       " 'while': 111,\n",
       " 'uphold': 112,\n",
       " 'age': 113,\n",
       " 'traditions': 114,\n",
       " 'values': 115,\n",
       " 'they': 116,\n",
       " 'also': 117,\n",
       " 'embrace': 118,\n",
       " 'technology': 119,\n",
       " 'evolving': 120,\n",
       " '21st': 121,\n",
       " 'century': 122,\n",
       " 'synthesis': 123,\n",
       " 'creates': 124,\n",
       " 'dynamic': 125,\n",
       " 'environment': 126,\n",
       " 'that': 127,\n",
       " 'encourages': 128,\n",
       " 'critical': 129,\n",
       " 'thinking': 130,\n",
       " 'creativity': 131,\n",
       " 'problem': 132,\n",
       " 'solving': 133,\n",
       " 'skills': 134,\n",
       " 'among': 135,\n",
       " 'despite': 136,\n",
       " 'strengths': 137,\n",
       " 'faces': 138,\n",
       " 'several': 139,\n",
       " 'including': 140,\n",
       " 'issues': 141,\n",
       " 'accessibility': 142,\n",
       " 'quality': 143,\n",
       " 'equity': 144,\n",
       " 'disparities': 145,\n",
       " 'infrastructure': 146,\n",
       " 'faculty': 147,\n",
       " 'resources': 148,\n",
       " 'funding': 149,\n",
       " 'often': 150,\n",
       " 'hinder': 151,\n",
       " 'marginalized': 152,\n",
       " 'communities': 153,\n",
       " 'underprivileged': 154,\n",
       " 'exacerbating': 155,\n",
       " 'inequalities': 156,\n",
       " 'nevertheless': 157,\n",
       " 'efforts': 158,\n",
       " 'are': 159,\n",
       " 'underway': 160,\n",
       " 'address': 161,\n",
       " 'transform': 162,\n",
       " 'landscape': 163,\n",
       " 'initiatives': 164,\n",
       " 'such': 165,\n",
       " 'establishment': 166,\n",
       " 'expansion': 167,\n",
       " 'ones': 168,\n",
       " 'promotion': 169,\n",
       " 'online': 170,\n",
       " 'platforms': 171,\n",
       " 'aim': 172,\n",
       " 'enhance': 173,\n",
       " 'access': 174,\n",
       " 'inclusivity': 175,\n",
       " 'additionally': 176,\n",
       " 'collaborations': 177,\n",
       " 'international': 178,\n",
       " 'industry': 179,\n",
       " 'partners': 180,\n",
       " 'seek': 181,\n",
       " 'raise': 182,\n",
       " 'standards': 183,\n",
       " 'promote': 184,\n",
       " 'global': 185,\n",
       " 'competitiveness': 186,\n",
       " 'conclusion': 187,\n",
       " 'vibrant': 188,\n",
       " 'tapestry': 189,\n",
       " 'opportunity': 190,\n",
       " 'continues': 191,\n",
       " 'evolve': 192,\n",
       " 'changing': 193,\n",
       " 'holds': 194,\n",
       " 'promise': 195,\n",
       " 'empowering': 196,\n",
       " 'generations': 197,\n",
       " 'realize': 198,\n",
       " 'full': 199,\n",
       " 'potential': 200,\n",
       " 'contribute': 201,\n",
       " 'meaningfully': 202,\n",
       " 'advancement': 203,\n",
       " 'betterment': 204}"
      ]
     },
     "execution_count": 6,
     "metadata": {},
     "output_type": "execute_result"
    }
   ],
   "source": [
    "myTokenizer.word_index"
   ]
  },
  {
   "cell_type": "code",
   "execution_count": 7,
   "metadata": {
    "colab": {
     "base_uri": "https://localhost:8080/",
     "height": 0
    },
    "execution": {
     "iopub.execute_input": "2025-06-01T08:19:28.319656Z",
     "iopub.status.busy": "2025-06-01T08:19:28.319028Z",
     "iopub.status.idle": "2025-06-01T08:19:28.330389Z",
     "shell.execute_reply": "2025-06-01T08:19:28.329666Z",
     "shell.execute_reply.started": "2025-06-01T08:19:28.319628Z"
    },
    "id": "b_duHOVkeyzK",
    "outputId": "8f04356b-ff93-4e92-f77d-c836ef032298"
   },
   "outputs": [
    {
     "name": "stdout",
     "output_type": "stream",
     "text": [
      "The Indian higher education system is a vast and intricate network comprising universities, colleges, and institutions spread across the length and breadth of the country. Renowned for its diversity and depth, it caters to millions of students aspiring for academic excellence in various fields.\n",
      "\n",
      "At its core, the system is structured around universities, both central and state, which offer a wide range of undergraduate, postgraduate, and doctoral programs. These universities serve as hubs of learning, research, and innovation, providing students with a platform to explore their interests and pursue their passions.\n",
      "\n",
      "One of the defining features of the Indian higher education system is its emphasis on specialized disciplines, ranging from engineering, medicine, and science to humanities, social sciences, and commerce. This diversity enables students to choose courses tailored to their career aspirations and academic interests, fostering a culture of multidisciplinary learning and holistic development.\n",
      "\n",
      "Moreover, the system is characterized by a blend of traditional and modern approaches to education. While institutions uphold age-old traditions and values, they also embrace innovation and technology to adapt to the evolving needs of the 21st century. This synthesis of the old and the new creates a dynamic learning environment that encourages critical thinking, creativity, and problem-solving skills among students.\n",
      "\n",
      "Despite its strengths, the Indian higher education system faces several challenges, including issues of accessibility, quality, and equity. Disparities in infrastructure, faculty resources, and funding often hinder the aspirations of marginalized communities and underprivileged students, exacerbating existing inequalities.\n",
      "\n",
      "Nevertheless, efforts are underway to address these challenges and transform the higher education landscape. Initiatives such as the establishment of new institutions, expansion of existing ones, and the promotion of online learning platforms aim to enhance access and inclusivity. Additionally, collaborations with international universities, research institutions, and industry partners seek to raise standards of excellence and promote global competitiveness.\n",
      "\n",
      "In conclusion, the Indian higher education system is a vibrant tapestry of knowledge, innovation, and opportunity. As it continues to evolve and adapt to the changing needs of society, it holds the promise of empowering generations of students to realize their full potential and contribute meaningfully to the advancement of knowledge and the betterment of society.\n",
      "[3, 11, 9, 6, 7, 10, 5, 39, 1, 40, 41, 42, 12, 43, 1, 13, 44, 45, 3, 46, 1, 47, 2, 3, 48, 49, 21, 14, 22, 1, 50, 17, 51, 4, 52, 2, 8, 53, 21, 23, 24, 18, 54, 55, 56, 14, 57, 3, 7, 10, 58, 59, 12, 60, 61, 1, 62, 63, 64, 5, 65, 66, 2, 67, 68, 1, 69, 70, 25, 12, 71, 19, 72, 2, 15, 26, 1, 20, 73, 8, 27, 5, 74, 4, 75, 16, 28, 1, 76, 16, 77, 78, 2, 3, 79, 80, 2, 3, 11, 9, 6, 7, 10, 14, 81, 82, 83, 84, 85, 86, 87, 88, 1, 89, 4, 90, 91, 92, 1, 93, 29, 22, 94, 8, 4, 95, 96, 97, 4, 16, 98, 30, 1, 23, 28, 99, 5, 100, 2, 101, 15, 1, 102, 103, 104, 3, 7, 10, 105, 106, 5, 107, 2, 108, 1, 109, 110, 4, 6, 111, 13, 112, 113, 31, 114, 1, 115, 116, 117, 118, 20, 1, 119, 4, 32, 4, 3, 120, 33, 2, 3, 121, 122, 29, 123, 2, 3, 31, 1, 3, 34, 124, 5, 125, 15, 126, 127, 128, 129, 130, 131, 1, 132, 133, 134, 135, 8, 136, 14, 137, 3, 11, 9, 6, 7, 138, 139, 35, 140, 141, 2, 142, 143, 1, 144, 145, 18, 146, 147, 148, 1, 149, 150, 151, 3, 30, 2, 152, 153, 1, 154, 8, 155, 36, 156, 157, 158, 159, 160, 4, 161, 25, 35, 1, 162, 3, 9, 6, 163, 164, 165, 19, 3, 166, 2, 34, 13, 167, 2, 36, 168, 1, 3, 169, 2, 170, 15, 171, 172, 4, 173, 174, 1, 175, 176, 177, 27, 178, 12, 26, 13, 1, 179, 180, 181, 4, 182, 183, 2, 24, 1, 184, 185, 186, 18, 187, 3, 11, 9, 6, 7, 10, 5, 188, 189, 2, 37, 20, 1, 190, 19, 17, 191, 4, 192, 1, 32, 4, 3, 193, 33, 2, 38, 17, 194, 3, 195, 2, 196, 197, 2, 8, 4, 198, 16, 199, 200, 1, 201, 202, 4, 3, 203, 2, 37, 1, 3, 204, 2, 38]\n"
     ]
    }
   ],
   "source": [
    "my_input_sequences=[]\n",
    "for line in mytext.split('/n'):\n",
    "  print(line)\n",
    "  token_list=myTokenizer.texts_to_sequences([line])[0]\n",
    "  print(token_list)\n",
    "  for i in range(1,len(token_list)):\n",
    "    my_n_gram_sequence=token_list[:i+1]\n",
    "    my_input_sequences.append(my_n_gram_sequence)"
   ]
  },
  {
   "cell_type": "code",
   "execution_count": 8,
   "metadata": {
    "execution": {
     "iopub.execute_input": "2025-06-01T08:19:28.331578Z",
     "iopub.status.busy": "2025-06-01T08:19:28.331258Z",
     "iopub.status.idle": "2025-06-01T08:19:28.347753Z",
     "shell.execute_reply": "2025-06-01T08:19:28.347028Z",
     "shell.execute_reply.started": "2025-06-01T08:19:28.331552Z"
    },
    "id": "kibiC-mahAcX"
   },
   "outputs": [],
   "source": [
    "max_sequence_len=max([len(seq) for seq in my_input_sequences])\n",
    "input_sequences=np.array(pad_sequences(my_input_sequences,maxlen=max_sequence_len,padding='pre'))"
   ]
  },
  {
   "cell_type": "code",
   "execution_count": 9,
   "metadata": {
    "colab": {
     "base_uri": "https://localhost:8080/",
     "height": 0
    },
    "execution": {
     "iopub.execute_input": "2025-06-01T08:19:28.350516Z",
     "iopub.status.busy": "2025-06-01T08:19:28.350328Z",
     "iopub.status.idle": "2025-06-01T08:19:28.357912Z",
     "shell.execute_reply": "2025-06-01T08:19:28.357217Z",
     "shell.execute_reply.started": "2025-06-01T08:19:28.350501Z"
    },
    "id": "nRR_lmT7iIgI",
    "outputId": "5fc5692f-935a-4029-c2a4-195457475236"
   },
   "outputs": [
    {
     "data": {
      "text/plain": [
       "array([ 0,  0,  0,  0,  0,  0,  0,  0,  0,  0,  0,  0,  0,  0,  0,  0,  0,\n",
       "        0,  0,  0,  0,  0,  0,  0,  0,  0,  0,  0,  0,  0,  0,  0,  0,  0,\n",
       "        0,  0,  0,  0,  0,  0,  0,  0,  0,  0,  0,  0,  0,  0,  0,  0,  0,\n",
       "        0,  0,  0,  0,  0,  0,  0,  0,  0,  0,  0,  0,  0,  0,  0,  0,  0,\n",
       "        0,  0,  0,  0,  0,  0,  0,  0,  0,  0,  0,  0,  0,  0,  0,  0,  0,\n",
       "        0,  0,  0,  0,  0,  0,  0,  0,  0,  0,  0,  0,  0,  0,  0,  0,  0,\n",
       "        0,  0,  0,  0,  0,  0,  0,  0,  0,  0,  0,  0,  0,  0,  0,  0,  0,\n",
       "        0,  0,  0,  0,  0,  0,  0,  0,  0,  0,  0,  0,  0,  0,  0,  0,  0,\n",
       "        0,  0,  0,  0,  0,  0,  0,  0,  0,  0,  0,  0,  0,  0,  0,  0,  0,\n",
       "        0,  0,  0,  0,  0,  0,  0,  0,  0,  0,  0,  0,  0,  0,  0,  0,  0,\n",
       "        0,  0,  0,  0,  0,  0,  0,  0,  0,  0,  0,  0,  0,  0,  0,  0,  0,\n",
       "        0,  0,  0,  0,  0,  0,  0,  0,  0,  0,  0,  0,  0,  0,  0,  0,  0,\n",
       "        0,  0,  0,  0,  0,  0,  0,  0,  0,  0,  0,  0,  0,  0,  0,  0,  0,\n",
       "        0,  0,  0,  0,  0,  0,  0,  0,  0,  0,  0,  0,  0,  0,  0,  0,  0,\n",
       "        0,  0,  0,  0,  0,  0,  0,  0,  0,  0,  0,  0,  0,  0,  0,  0,  0,\n",
       "        0,  0,  0,  0,  0,  0,  0,  0,  0,  0,  0,  0,  0,  0,  0,  0,  0,\n",
       "        0,  0,  0,  0,  0,  0,  0,  0,  0,  0,  0,  0,  0,  0,  0,  0,  0,\n",
       "        0,  0,  0,  0,  0,  0,  0,  0,  0,  0,  0,  0,  0,  0,  0,  0,  0,\n",
       "        0,  0,  0,  0,  0,  0,  0,  0,  0,  0,  0,  0,  0,  0,  0,  0,  0,\n",
       "        0,  0,  0,  0,  0,  0,  0,  0,  0,  0,  0,  0,  0,  0,  0,  0,  0,\n",
       "        0,  0,  0,  0,  0,  0,  0,  0,  0,  0,  0,  0,  0,  0,  0,  0,  0,\n",
       "        0,  3, 11], dtype=int32)"
      ]
     },
     "execution_count": 9,
     "metadata": {},
     "output_type": "execute_result"
    }
   ],
   "source": [
    "input_sequences[0]"
   ]
  },
  {
   "cell_type": "code",
   "execution_count": 10,
   "metadata": {
    "execution": {
     "iopub.execute_input": "2025-06-01T08:19:28.359000Z",
     "iopub.status.busy": "2025-06-01T08:19:28.358665Z",
     "iopub.status.idle": "2025-06-01T08:19:28.368915Z",
     "shell.execute_reply": "2025-06-01T08:19:28.368117Z",
     "shell.execute_reply.started": "2025-06-01T08:19:28.358964Z"
    },
    "id": "2yq9mbkKiLHr"
   },
   "outputs": [],
   "source": [
    "X=input_sequences[:,:-1] \n",
    "y=input_sequences[:,-1]"
   ]
  },
  {
   "cell_type": "code",
   "execution_count": 11,
   "metadata": {
    "colab": {
     "base_uri": "https://localhost:8080/",
     "height": 0
    },
    "execution": {
     "iopub.execute_input": "2025-06-01T08:19:28.369888Z",
     "iopub.status.busy": "2025-06-01T08:19:28.369553Z",
     "iopub.status.idle": "2025-06-01T08:19:28.381399Z",
     "shell.execute_reply": "2025-06-01T08:19:28.380624Z",
     "shell.execute_reply.started": "2025-06-01T08:19:28.369870Z"
    },
    "id": "UnQpriSqignM",
    "outputId": "68f8d7a6-6dec-4ec5-ea9d-8ccabc5c66ab"
   },
   "outputs": [
    {
     "data": {
      "text/plain": [
       "array([0, 0, 0, 0, 0, 0, 0, 0, 0, 0, 0, 0, 0, 0, 0, 0, 0, 0, 0, 0, 0, 0,\n",
       "       0, 0, 0, 0, 0, 0, 0, 0, 0, 0, 0, 0, 0, 0, 0, 0, 0, 0, 0, 0, 0, 0,\n",
       "       0, 0, 0, 0, 0, 0, 0, 0, 0, 0, 0, 0, 0, 0, 0, 0, 0, 0, 0, 0, 0, 0,\n",
       "       0, 0, 0, 0, 0, 0, 0, 0, 0, 0, 0, 0, 0, 0, 0, 0, 0, 0, 0, 0, 0, 0,\n",
       "       0, 0, 0, 0, 0, 0, 0, 0, 0, 0, 0, 0, 0, 0, 0, 0, 0, 0, 0, 0, 0, 0,\n",
       "       0, 0, 0, 0, 0, 0, 0, 0, 0, 0, 0, 0, 0, 0, 0, 0, 0, 0, 0, 0, 0, 0,\n",
       "       0, 0, 0, 0, 0, 0, 0, 0, 0, 0, 0, 0, 0, 0, 0, 0, 0, 0, 0, 0, 0, 0,\n",
       "       0, 0, 0, 0, 0, 0, 0, 0, 0, 0, 0, 0, 0, 0, 0, 0, 0, 0, 0, 0, 0, 0,\n",
       "       0, 0, 0, 0, 0, 0, 0, 0, 0, 0, 0, 0, 0, 0, 0, 0, 0, 0, 0, 0, 0, 0,\n",
       "       0, 0, 0, 0, 0, 0, 0, 0, 0, 0, 0, 0, 0, 0, 0, 0, 0, 0, 0, 0, 0, 0,\n",
       "       0, 0, 0, 0, 0, 0, 0, 0, 0, 0, 0, 0, 0, 0, 0, 0, 0, 0, 0, 0, 0, 0,\n",
       "       0, 0, 0, 0, 0, 0, 0, 0, 0, 0, 0, 0, 0, 0, 0, 0, 0, 0, 0, 0, 0, 0,\n",
       "       0, 0, 0, 0, 0, 0, 0, 0, 0, 0, 0, 0, 0, 0, 0, 0, 0, 0, 0, 0, 0, 0,\n",
       "       0, 0, 0, 0, 0, 0, 0, 0, 0, 0, 0, 0, 0, 0, 0, 0, 0, 0, 0, 0, 0, 0,\n",
       "       0, 0, 0, 0, 0, 0, 0, 0, 0, 0, 0, 0, 0, 0, 0, 0, 0, 0, 0, 0, 0, 0,\n",
       "       0, 0, 0, 0, 0, 0, 0, 0, 0, 0, 0, 0, 0, 0, 0, 0, 0, 0, 0, 0, 0, 0,\n",
       "       0, 0, 0, 0, 0, 0, 3], dtype=int32)"
      ]
     },
     "execution_count": 11,
     "metadata": {},
     "output_type": "execute_result"
    }
   ],
   "source": [
    "X[0]"
   ]
  },
  {
   "cell_type": "code",
   "execution_count": 12,
   "metadata": {
    "colab": {
     "base_uri": "https://localhost:8080/",
     "height": 0
    },
    "execution": {
     "iopub.execute_input": "2025-06-01T08:19:28.382540Z",
     "iopub.status.busy": "2025-06-01T08:19:28.382233Z",
     "iopub.status.idle": "2025-06-01T08:19:28.394172Z",
     "shell.execute_reply": "2025-06-01T08:19:28.393252Z",
     "shell.execute_reply.started": "2025-06-01T08:19:28.382520Z"
    },
    "id": "zzs-tDIWihfm",
    "outputId": "76591ac4-c59e-41d1-ff81-fd612d36b25f"
   },
   "outputs": [
    {
     "data": {
      "text/plain": [
       "11"
      ]
     },
     "execution_count": 12,
     "metadata": {},
     "output_type": "execute_result"
    }
   ],
   "source": [
    "y[0]"
   ]
  },
  {
   "cell_type": "code",
   "execution_count": 13,
   "metadata": {
    "execution": {
     "iopub.execute_input": "2025-06-01T08:19:28.395345Z",
     "iopub.status.busy": "2025-06-01T08:19:28.395128Z",
     "iopub.status.idle": "2025-06-01T08:19:28.405132Z",
     "shell.execute_reply": "2025-06-01T08:19:28.404518Z",
     "shell.execute_reply.started": "2025-06-01T08:19:28.395330Z"
    },
    "id": "ZxKE96wCjJNS"
   },
   "outputs": [],
   "source": [
    "y=np.array(tf.keras.utils.to_categorical(y,num_classes=total_words))"
   ]
  },
  {
   "cell_type": "code",
   "execution_count": 14,
   "metadata": {
    "colab": {
     "base_uri": "https://localhost:8080/",
     "height": 0
    },
    "execution": {
     "iopub.execute_input": "2025-06-01T08:19:28.406114Z",
     "iopub.status.busy": "2025-06-01T08:19:28.405834Z",
     "iopub.status.idle": "2025-06-01T08:19:28.418375Z",
     "shell.execute_reply": "2025-06-01T08:19:28.417656Z",
     "shell.execute_reply.started": "2025-06-01T08:19:28.406097Z"
    },
    "id": "pDyD4IdBjhrm",
    "outputId": "02559106-08ce-407f-d7c8-8ad0b9c27426"
   },
   "outputs": [
    {
     "data": {
      "text/plain": [
       "array([0., 0., 0., 0., 0., 0., 0., 0., 0., 0., 0., 1., 0., 0., 0., 0., 0.,\n",
       "       0., 0., 0., 0., 0., 0., 0., 0., 0., 0., 0., 0., 0., 0., 0., 0., 0.,\n",
       "       0., 0., 0., 0., 0., 0., 0., 0., 0., 0., 0., 0., 0., 0., 0., 0., 0.,\n",
       "       0., 0., 0., 0., 0., 0., 0., 0., 0., 0., 0., 0., 0., 0., 0., 0., 0.,\n",
       "       0., 0., 0., 0., 0., 0., 0., 0., 0., 0., 0., 0., 0., 0., 0., 0., 0.,\n",
       "       0., 0., 0., 0., 0., 0., 0., 0., 0., 0., 0., 0., 0., 0., 0., 0., 0.,\n",
       "       0., 0., 0., 0., 0., 0., 0., 0., 0., 0., 0., 0., 0., 0., 0., 0., 0.,\n",
       "       0., 0., 0., 0., 0., 0., 0., 0., 0., 0., 0., 0., 0., 0., 0., 0., 0.,\n",
       "       0., 0., 0., 0., 0., 0., 0., 0., 0., 0., 0., 0., 0., 0., 0., 0., 0.,\n",
       "       0., 0., 0., 0., 0., 0., 0., 0., 0., 0., 0., 0., 0., 0., 0., 0., 0.,\n",
       "       0., 0., 0., 0., 0., 0., 0., 0., 0., 0., 0., 0., 0., 0., 0., 0., 0.,\n",
       "       0., 0., 0., 0., 0., 0., 0., 0., 0., 0., 0., 0., 0., 0., 0., 0., 0.,\n",
       "       0.])"
      ]
     },
     "execution_count": 14,
     "metadata": {},
     "output_type": "execute_result"
    }
   ],
   "source": [
    "y[0] "
   ]
  },
  {
   "cell_type": "code",
   "execution_count": 15,
   "metadata": {
    "colab": {
     "base_uri": "https://localhost:8080/",
     "height": 0
    },
    "execution": {
     "iopub.execute_input": "2025-06-01T08:19:28.419446Z",
     "iopub.status.busy": "2025-06-01T08:19:28.419158Z",
     "iopub.status.idle": "2025-06-01T08:19:29.697283Z",
     "shell.execute_reply": "2025-06-01T08:19:29.696456Z",
     "shell.execute_reply.started": "2025-06-01T08:19:28.419423Z"
    },
    "id": "7AIB4CVEjiuF",
    "outputId": "926879ad-3d5e-40f9-f3ff-e4768d244dc4"
   },
   "outputs": [
    {
     "name": "stderr",
     "output_type": "stream",
     "text": [
      "/usr/local/lib/python3.11/dist-packages/keras/src/layers/core/embedding.py:90: UserWarning: Argument `input_length` is deprecated. Just remove it.\n",
      "  warnings.warn(\n",
      "I0000 00:00:1748765969.650169      35 gpu_device.cc:2022] Created device /job:localhost/replica:0/task:0/device:GPU:0 with 13942 MB memory:  -> device: 0, name: Tesla T4, pci bus id: 0000:00:04.0, compute capability: 7.5\n",
      "I0000 00:00:1748765969.651716      35 gpu_device.cc:2022] Created device /job:localhost/replica:0/task:0/device:GPU:1 with 13942 MB memory:  -> device: 1, name: Tesla T4, pci bus id: 0000:00:05.0, compute capability: 7.5\n"
     ]
    }
   ],
   "source": [
    "model=Sequential()\n",
    "model.add(Embedding(total_words,100,input_length=max_sequence_len-1))\n",
    "model.add(LSTM(150))\n",
    "model.add(Dense(total_words,activation='softmax'))"
   ]
  },
  {
   "cell_type": "code",
   "execution_count": 16,
   "metadata": {
    "colab": {
     "base_uri": "https://localhost:8080/",
     "height": 225
    },
    "execution": {
     "iopub.execute_input": "2025-06-01T08:19:29.698792Z",
     "iopub.status.busy": "2025-06-01T08:19:29.698502Z",
     "iopub.status.idle": "2025-06-01T08:19:29.715060Z",
     "shell.execute_reply": "2025-06-01T08:19:29.714035Z",
     "shell.execute_reply.started": "2025-06-01T08:19:29.698774Z"
    },
    "id": "3I6B5QpBkO-n",
    "outputId": "af50d720-141f-4205-b6e3-ecefb0ce4b8c"
   },
   "outputs": [
    {
     "data": {
      "text/html": [
       "<pre style=\"white-space:pre;overflow-x:auto;line-height:normal;font-family:Menlo,'DejaVu Sans Mono',consolas,'Courier New',monospace\"><span style=\"font-weight: bold\">Model: \"sequential\"</span>\n",
       "</pre>\n"
      ],
      "text/plain": [
       "\u001b[1mModel: \"sequential\"\u001b[0m\n"
      ]
     },
     "metadata": {},
     "output_type": "display_data"
    },
    {
     "data": {
      "text/html": [
       "<pre style=\"white-space:pre;overflow-x:auto;line-height:normal;font-family:Menlo,'DejaVu Sans Mono',consolas,'Courier New',monospace\">┏━━━━━━━━━━━━━━━━━━━━━━━━━━━━━━━━━━━━━━┳━━━━━━━━━━━━━━━━━━━━━━━━━━━━━┳━━━━━━━━━━━━━━━━━┓\n",
       "┃<span style=\"font-weight: bold\"> Layer (type)                         </span>┃<span style=\"font-weight: bold\"> Output Shape                </span>┃<span style=\"font-weight: bold\">         Param # </span>┃\n",
       "┡━━━━━━━━━━━━━━━━━━━━━━━━━━━━━━━━━━━━━━╇━━━━━━━━━━━━━━━━━━━━━━━━━━━━━╇━━━━━━━━━━━━━━━━━┩\n",
       "│ embedding (<span style=\"color: #0087ff; text-decoration-color: #0087ff\">Embedding</span>)                │ ?                           │     <span style=\"color: #00af00; text-decoration-color: #00af00\">0</span> (unbuilt) │\n",
       "├──────────────────────────────────────┼─────────────────────────────┼─────────────────┤\n",
       "│ lstm (<span style=\"color: #0087ff; text-decoration-color: #0087ff\">LSTM</span>)                          │ ?                           │     <span style=\"color: #00af00; text-decoration-color: #00af00\">0</span> (unbuilt) │\n",
       "├──────────────────────────────────────┼─────────────────────────────┼─────────────────┤\n",
       "│ dense (<span style=\"color: #0087ff; text-decoration-color: #0087ff\">Dense</span>)                        │ ?                           │     <span style=\"color: #00af00; text-decoration-color: #00af00\">0</span> (unbuilt) │\n",
       "└──────────────────────────────────────┴─────────────────────────────┴─────────────────┘\n",
       "</pre>\n"
      ],
      "text/plain": [
       "┏━━━━━━━━━━━━━━━━━━━━━━━━━━━━━━━━━━━━━━┳━━━━━━━━━━━━━━━━━━━━━━━━━━━━━┳━━━━━━━━━━━━━━━━━┓\n",
       "┃\u001b[1m \u001b[0m\u001b[1mLayer (type)                        \u001b[0m\u001b[1m \u001b[0m┃\u001b[1m \u001b[0m\u001b[1mOutput Shape               \u001b[0m\u001b[1m \u001b[0m┃\u001b[1m \u001b[0m\u001b[1m        Param #\u001b[0m\u001b[1m \u001b[0m┃\n",
       "┡━━━━━━━━━━━━━━━━━━━━━━━━━━━━━━━━━━━━━━╇━━━━━━━━━━━━━━━━━━━━━━━━━━━━━╇━━━━━━━━━━━━━━━━━┩\n",
       "│ embedding (\u001b[38;5;33mEmbedding\u001b[0m)                │ ?                           │     \u001b[38;5;34m0\u001b[0m (unbuilt) │\n",
       "├──────────────────────────────────────┼─────────────────────────────┼─────────────────┤\n",
       "│ lstm (\u001b[38;5;33mLSTM\u001b[0m)                          │ ?                           │     \u001b[38;5;34m0\u001b[0m (unbuilt) │\n",
       "├──────────────────────────────────────┼─────────────────────────────┼─────────────────┤\n",
       "│ dense (\u001b[38;5;33mDense\u001b[0m)                        │ ?                           │     \u001b[38;5;34m0\u001b[0m (unbuilt) │\n",
       "└──────────────────────────────────────┴─────────────────────────────┴─────────────────┘\n"
      ]
     },
     "metadata": {},
     "output_type": "display_data"
    },
    {
     "data": {
      "text/html": [
       "<pre style=\"white-space:pre;overflow-x:auto;line-height:normal;font-family:Menlo,'DejaVu Sans Mono',consolas,'Courier New',monospace\"><span style=\"font-weight: bold\"> Total params: </span><span style=\"color: #00af00; text-decoration-color: #00af00\">0</span> (0.00 B)\n",
       "</pre>\n"
      ],
      "text/plain": [
       "\u001b[1m Total params: \u001b[0m\u001b[38;5;34m0\u001b[0m (0.00 B)\n"
      ]
     },
     "metadata": {},
     "output_type": "display_data"
    },
    {
     "data": {
      "text/html": [
       "<pre style=\"white-space:pre;overflow-x:auto;line-height:normal;font-family:Menlo,'DejaVu Sans Mono',consolas,'Courier New',monospace\"><span style=\"font-weight: bold\"> Trainable params: </span><span style=\"color: #00af00; text-decoration-color: #00af00\">0</span> (0.00 B)\n",
       "</pre>\n"
      ],
      "text/plain": [
       "\u001b[1m Trainable params: \u001b[0m\u001b[38;5;34m0\u001b[0m (0.00 B)\n"
      ]
     },
     "metadata": {},
     "output_type": "display_data"
    },
    {
     "data": {
      "text/html": [
       "<pre style=\"white-space:pre;overflow-x:auto;line-height:normal;font-family:Menlo,'DejaVu Sans Mono',consolas,'Courier New',monospace\"><span style=\"font-weight: bold\"> Non-trainable params: </span><span style=\"color: #00af00; text-decoration-color: #00af00\">0</span> (0.00 B)\n",
       "</pre>\n"
      ],
      "text/plain": [
       "\u001b[1m Non-trainable params: \u001b[0m\u001b[38;5;34m0\u001b[0m (0.00 B)\n"
      ]
     },
     "metadata": {},
     "output_type": "display_data"
    }
   ],
   "source": [
    "model.summary()"
   ]
  },
  {
   "cell_type": "code",
   "execution_count": 17,
   "metadata": {
    "execution": {
     "iopub.execute_input": "2025-06-01T08:19:29.716972Z",
     "iopub.status.busy": "2025-06-01T08:19:29.716716Z",
     "iopub.status.idle": "2025-06-01T08:19:29.739914Z",
     "shell.execute_reply": "2025-06-01T08:19:29.739098Z",
     "shell.execute_reply.started": "2025-06-01T08:19:29.716948Z"
    },
    "id": "we9Z_4f5kQcY"
   },
   "outputs": [],
   "source": [
    "model.compile(loss='categorical_crossentropy',optimizer='adam',metrics=['accuracy'])"
   ]
  },
  {
   "cell_type": "code",
   "execution_count": 18,
   "metadata": {
    "colab": {
     "base_uri": "https://localhost:8080/",
     "height": 0
    },
    "execution": {
     "iopub.execute_input": "2025-06-01T08:19:29.741096Z",
     "iopub.status.busy": "2025-06-01T08:19:29.740800Z",
     "iopub.status.idle": "2025-06-01T08:19:55.824192Z",
     "shell.execute_reply": "2025-06-01T08:19:55.823543Z",
     "shell.execute_reply.started": "2025-06-01T08:19:29.741071Z"
    },
    "id": "vPzYS3vlkfGN",
    "outputId": "da97b53a-d024-4781-9344-15714c16330b"
   },
   "outputs": [
    {
     "name": "stdout",
     "output_type": "stream",
     "text": [
      "Epoch 1/100\n"
     ]
    },
    {
     "name": "stderr",
     "output_type": "stream",
     "text": [
      "I0000 00:00:1748765973.768974      94 cuda_dnn.cc:529] Loaded cuDNN version 90300\n"
     ]
    },
    {
     "name": "stdout",
     "output_type": "stream",
     "text": [
      "\u001b[1m12/12\u001b[0m \u001b[32m━━━━━━━━━━━━━━━━━━━━\u001b[0m\u001b[37m\u001b[0m \u001b[1m5s\u001b[0m 28ms/step - accuracy: 0.0290 - loss: 5.3207\n",
      "Epoch 2/100\n",
      "\u001b[1m12/12\u001b[0m \u001b[32m━━━━━━━━━━━━━━━━━━━━\u001b[0m\u001b[37m\u001b[0m \u001b[1m0s\u001b[0m 17ms/step - accuracy: 0.1002 - loss: 5.1648\n",
      "Epoch 3/100\n",
      "\u001b[1m12/12\u001b[0m \u001b[32m━━━━━━━━━━━━━━━━━━━━\u001b[0m\u001b[37m\u001b[0m \u001b[1m0s\u001b[0m 16ms/step - accuracy: 0.0903 - loss: 4.9347\n",
      "Epoch 4/100\n",
      "\u001b[1m12/12\u001b[0m \u001b[32m━━━━━━━━━━━━━━━━━━━━\u001b[0m\u001b[37m\u001b[0m \u001b[1m0s\u001b[0m 16ms/step - accuracy: 0.0332 - loss: 4.8213  \n",
      "Epoch 5/100\n",
      "\u001b[1m12/12\u001b[0m \u001b[32m━━━━━━━━━━━━━━━━━━━━\u001b[0m\u001b[37m\u001b[0m \u001b[1m0s\u001b[0m 16ms/step - accuracy: 0.0860 - loss: 4.7491\n",
      "Epoch 6/100\n",
      "\u001b[1m12/12\u001b[0m \u001b[32m━━━━━━━━━━━━━━━━━━━━\u001b[0m\u001b[37m\u001b[0m \u001b[1m0s\u001b[0m 16ms/step - accuracy: 0.0941 - loss: 4.7596\n",
      "Epoch 7/100\n",
      "\u001b[1m12/12\u001b[0m \u001b[32m━━━━━━━━━━━━━━━━━━━━\u001b[0m\u001b[37m\u001b[0m \u001b[1m0s\u001b[0m 16ms/step - accuracy: 0.0973 - loss: 4.6981\n",
      "Epoch 8/100\n",
      "\u001b[1m12/12\u001b[0m \u001b[32m━━━━━━━━━━━━━━━━━━━━\u001b[0m\u001b[37m\u001b[0m \u001b[1m0s\u001b[0m 16ms/step - accuracy: 0.0774 - loss: 4.7117\n",
      "Epoch 9/100\n",
      "\u001b[1m12/12\u001b[0m \u001b[32m━━━━━━━━━━━━━━━━━━━━\u001b[0m\u001b[37m\u001b[0m \u001b[1m0s\u001b[0m 16ms/step - accuracy: 0.0792 - loss: 4.7597\n",
      "Epoch 10/100\n",
      "\u001b[1m12/12\u001b[0m \u001b[32m━━━━━━━━━━━━━━━━━━━━\u001b[0m\u001b[37m\u001b[0m \u001b[1m0s\u001b[0m 16ms/step - accuracy: 0.1017 - loss: 4.7657\n",
      "Epoch 11/100\n",
      "\u001b[1m12/12\u001b[0m \u001b[32m━━━━━━━━━━━━━━━━━━━━\u001b[0m\u001b[37m\u001b[0m \u001b[1m0s\u001b[0m 16ms/step - accuracy: 0.0796 - loss: 4.7247\n",
      "Epoch 12/100\n",
      "\u001b[1m12/12\u001b[0m \u001b[32m━━━━━━━━━━━━━━━━━━━━\u001b[0m\u001b[37m\u001b[0m \u001b[1m0s\u001b[0m 16ms/step - accuracy: 0.1167 - loss: 4.5398\n",
      "Epoch 13/100\n",
      "\u001b[1m12/12\u001b[0m \u001b[32m━━━━━━━━━━━━━━━━━━━━\u001b[0m\u001b[37m\u001b[0m \u001b[1m0s\u001b[0m 16ms/step - accuracy: 0.2006 - loss: 4.4459\n",
      "Epoch 14/100\n",
      "\u001b[1m12/12\u001b[0m \u001b[32m━━━━━━━━━━━━━━━━━━━━\u001b[0m\u001b[37m\u001b[0m \u001b[1m0s\u001b[0m 16ms/step - accuracy: 0.1797 - loss: 4.3027\n",
      "Epoch 15/100\n",
      "\u001b[1m12/12\u001b[0m \u001b[32m━━━━━━━━━━━━━━━━━━━━\u001b[0m\u001b[37m\u001b[0m \u001b[1m0s\u001b[0m 16ms/step - accuracy: 0.2491 - loss: 4.1146\n",
      "Epoch 16/100\n",
      "\u001b[1m12/12\u001b[0m \u001b[32m━━━━━━━━━━━━━━━━━━━━\u001b[0m\u001b[37m\u001b[0m \u001b[1m0s\u001b[0m 16ms/step - accuracy: 0.2133 - loss: 4.1008\n",
      "Epoch 17/100\n",
      "\u001b[1m12/12\u001b[0m \u001b[32m━━━━━━━━━━━━━━━━━━━━\u001b[0m\u001b[37m\u001b[0m \u001b[1m0s\u001b[0m 16ms/step - accuracy: 0.2597 - loss: 3.8016\n",
      "Epoch 18/100\n",
      "\u001b[1m12/12\u001b[0m \u001b[32m━━━━━━━━━━━━━━━━━━━━\u001b[0m\u001b[37m\u001b[0m \u001b[1m0s\u001b[0m 16ms/step - accuracy: 0.2561 - loss: 3.7037\n",
      "Epoch 19/100\n",
      "\u001b[1m12/12\u001b[0m \u001b[32m━━━━━━━━━━━━━━━━━━━━\u001b[0m\u001b[37m\u001b[0m \u001b[1m0s\u001b[0m 16ms/step - accuracy: 0.2743 - loss: 3.5729\n",
      "Epoch 20/100\n",
      "\u001b[1m12/12\u001b[0m \u001b[32m━━━━━━━━━━━━━━━━━━━━\u001b[0m\u001b[37m\u001b[0m \u001b[1m0s\u001b[0m 16ms/step - accuracy: 0.2952 - loss: 3.3242\n",
      "Epoch 21/100\n",
      "\u001b[1m12/12\u001b[0m \u001b[32m━━━━━━━━━━━━━━━━━━━━\u001b[0m\u001b[37m\u001b[0m \u001b[1m0s\u001b[0m 16ms/step - accuracy: 0.3202 - loss: 3.1500\n",
      "Epoch 22/100\n",
      "\u001b[1m12/12\u001b[0m \u001b[32m━━━━━━━━━━━━━━━━━━━━\u001b[0m\u001b[37m\u001b[0m \u001b[1m0s\u001b[0m 16ms/step - accuracy: 0.3077 - loss: 3.0170\n",
      "Epoch 23/100\n",
      "\u001b[1m12/12\u001b[0m \u001b[32m━━━━━━━━━━━━━━━━━━━━\u001b[0m\u001b[37m\u001b[0m \u001b[1m0s\u001b[0m 16ms/step - accuracy: 0.3245 - loss: 2.8683\n",
      "Epoch 24/100\n",
      "\u001b[1m12/12\u001b[0m \u001b[32m━━━━━━━━━━━━━━━━━━━━\u001b[0m\u001b[37m\u001b[0m \u001b[1m0s\u001b[0m 16ms/step - accuracy: 0.3456 - loss: 2.6780\n",
      "Epoch 25/100\n",
      "\u001b[1m12/12\u001b[0m \u001b[32m━━━━━━━━━━━━━━━━━━━━\u001b[0m\u001b[37m\u001b[0m \u001b[1m0s\u001b[0m 17ms/step - accuracy: 0.3488 - loss: 2.5317\n",
      "Epoch 26/100\n",
      "\u001b[1m12/12\u001b[0m \u001b[32m━━━━━━━━━━━━━━━━━━━━\u001b[0m\u001b[37m\u001b[0m \u001b[1m0s\u001b[0m 17ms/step - accuracy: 0.4215 - loss: 2.3398\n",
      "Epoch 27/100\n",
      "\u001b[1m12/12\u001b[0m \u001b[32m━━━━━━━━━━━━━━━━━━━━\u001b[0m\u001b[37m\u001b[0m \u001b[1m0s\u001b[0m 16ms/step - accuracy: 0.4499 - loss: 2.2068\n",
      "Epoch 28/100\n",
      "\u001b[1m12/12\u001b[0m \u001b[32m━━━━━━━━━━━━━━━━━━━━\u001b[0m\u001b[37m\u001b[0m \u001b[1m0s\u001b[0m 16ms/step - accuracy: 0.5174 - loss: 1.9758\n",
      "Epoch 29/100\n",
      "\u001b[1m12/12\u001b[0m \u001b[32m━━━━━━━━━━━━━━━━━━━━\u001b[0m\u001b[37m\u001b[0m \u001b[1m0s\u001b[0m 16ms/step - accuracy: 0.6003 - loss: 1.8578\n",
      "Epoch 30/100\n",
      "\u001b[1m12/12\u001b[0m \u001b[32m━━━━━━━━━━━━━━━━━━━━\u001b[0m\u001b[37m\u001b[0m \u001b[1m0s\u001b[0m 16ms/step - accuracy: 0.6459 - loss: 1.7297\n",
      "Epoch 31/100\n",
      "\u001b[1m12/12\u001b[0m \u001b[32m━━━━━━━━━━━━━━━━━━━━\u001b[0m\u001b[37m\u001b[0m \u001b[1m0s\u001b[0m 16ms/step - accuracy: 0.6538 - loss: 1.6368\n",
      "Epoch 32/100\n",
      "\u001b[1m12/12\u001b[0m \u001b[32m━━━━━━━━━━━━━━━━━━━━\u001b[0m\u001b[37m\u001b[0m \u001b[1m0s\u001b[0m 16ms/step - accuracy: 0.7336 - loss: 1.5089\n",
      "Epoch 33/100\n",
      "\u001b[1m12/12\u001b[0m \u001b[32m━━━━━━━━━━━━━━━━━━━━\u001b[0m\u001b[37m\u001b[0m \u001b[1m0s\u001b[0m 16ms/step - accuracy: 0.7551 - loss: 1.3583\n",
      "Epoch 34/100\n",
      "\u001b[1m12/12\u001b[0m \u001b[32m━━━━━━━━━━━━━━━━━━━━\u001b[0m\u001b[37m\u001b[0m \u001b[1m0s\u001b[0m 16ms/step - accuracy: 0.8139 - loss: 1.3184\n",
      "Epoch 35/100\n",
      "\u001b[1m12/12\u001b[0m \u001b[32m━━━━━━━━━━━━━━━━━━━━\u001b[0m\u001b[37m\u001b[0m \u001b[1m0s\u001b[0m 16ms/step - accuracy: 0.8643 - loss: 1.1997\n",
      "Epoch 36/100\n",
      "\u001b[1m12/12\u001b[0m \u001b[32m━━━━━━━━━━━━━━━━━━━━\u001b[0m\u001b[37m\u001b[0m \u001b[1m0s\u001b[0m 16ms/step - accuracy: 0.8960 - loss: 1.1551\n",
      "Epoch 37/100\n",
      "\u001b[1m12/12\u001b[0m \u001b[32m━━━━━━━━━━━━━━━━━━━━\u001b[0m\u001b[37m\u001b[0m \u001b[1m0s\u001b[0m 16ms/step - accuracy: 0.9131 - loss: 1.0332\n",
      "Epoch 38/100\n",
      "\u001b[1m12/12\u001b[0m \u001b[32m━━━━━━━━━━━━━━━━━━━━\u001b[0m\u001b[37m\u001b[0m \u001b[1m0s\u001b[0m 16ms/step - accuracy: 0.9133 - loss: 0.9878\n",
      "Epoch 39/100\n",
      "\u001b[1m12/12\u001b[0m \u001b[32m━━━━━━━━━━━━━━━━━━━━\u001b[0m\u001b[37m\u001b[0m \u001b[1m0s\u001b[0m 16ms/step - accuracy: 0.9193 - loss: 0.9374\n",
      "Epoch 40/100\n",
      "\u001b[1m12/12\u001b[0m \u001b[32m━━━━━━━━━━━━━━━━━━━━\u001b[0m\u001b[37m\u001b[0m \u001b[1m0s\u001b[0m 16ms/step - accuracy: 0.9385 - loss: 0.8685\n",
      "Epoch 41/100\n",
      "\u001b[1m12/12\u001b[0m \u001b[32m━━━━━━━━━━━━━━━━━━━━\u001b[0m\u001b[37m\u001b[0m \u001b[1m0s\u001b[0m 16ms/step - accuracy: 0.9568 - loss: 0.8114\n",
      "Epoch 42/100\n",
      "\u001b[1m12/12\u001b[0m \u001b[32m━━━━━━━━━━━━━━━━━━━━\u001b[0m\u001b[37m\u001b[0m \u001b[1m0s\u001b[0m 16ms/step - accuracy: 0.9702 - loss: 0.7518\n",
      "Epoch 43/100\n",
      "\u001b[1m12/12\u001b[0m \u001b[32m━━━━━━━━━━━━━━━━━━━━\u001b[0m\u001b[37m\u001b[0m \u001b[1m0s\u001b[0m 16ms/step - accuracy: 0.9712 - loss: 0.7266\n",
      "Epoch 44/100\n",
      "\u001b[1m12/12\u001b[0m \u001b[32m━━━━━━━━━━━━━━━━━━━━\u001b[0m\u001b[37m\u001b[0m \u001b[1m0s\u001b[0m 16ms/step - accuracy: 0.9745 - loss: 0.6826\n",
      "Epoch 45/100\n",
      "\u001b[1m12/12\u001b[0m \u001b[32m━━━━━━━━━━━━━━━━━━━━\u001b[0m\u001b[37m\u001b[0m \u001b[1m0s\u001b[0m 16ms/step - accuracy: 0.9849 - loss: 0.6082\n",
      "Epoch 46/100\n",
      "\u001b[1m12/12\u001b[0m \u001b[32m━━━━━━━━━━━━━━━━━━━━\u001b[0m\u001b[37m\u001b[0m \u001b[1m0s\u001b[0m 16ms/step - accuracy: 0.9875 - loss: 0.5634\n",
      "Epoch 47/100\n",
      "\u001b[1m12/12\u001b[0m \u001b[32m━━━━━━━━━━━━━━━━━━━━\u001b[0m\u001b[37m\u001b[0m \u001b[1m0s\u001b[0m 16ms/step - accuracy: 0.9781 - loss: 0.5810\n",
      "Epoch 48/100\n",
      "\u001b[1m12/12\u001b[0m \u001b[32m━━━━━━━━━━━━━━━━━━━━\u001b[0m\u001b[37m\u001b[0m \u001b[1m0s\u001b[0m 16ms/step - accuracy: 0.9901 - loss: 0.5046\n",
      "Epoch 49/100\n",
      "\u001b[1m12/12\u001b[0m \u001b[32m━━━━━━━━━━━━━━━━━━━━\u001b[0m\u001b[37m\u001b[0m \u001b[1m0s\u001b[0m 16ms/step - accuracy: 0.9901 - loss: 0.4950\n",
      "Epoch 50/100\n",
      "\u001b[1m12/12\u001b[0m \u001b[32m━━━━━━━━━━━━━━━━━━━━\u001b[0m\u001b[37m\u001b[0m \u001b[1m0s\u001b[0m 16ms/step - accuracy: 0.9893 - loss: 0.4487\n",
      "Epoch 51/100\n",
      "\u001b[1m12/12\u001b[0m \u001b[32m━━━━━━━━━━━━━━━━━━━━\u001b[0m\u001b[37m\u001b[0m \u001b[1m0s\u001b[0m 16ms/step - accuracy: 0.9846 - loss: 0.4499\n",
      "Epoch 52/100\n",
      "\u001b[1m12/12\u001b[0m \u001b[32m━━━━━━━━━━━━━━━━━━━━\u001b[0m\u001b[37m\u001b[0m \u001b[1m0s\u001b[0m 16ms/step - accuracy: 0.9967 - loss: 0.4322\n",
      "Epoch 53/100\n",
      "\u001b[1m12/12\u001b[0m \u001b[32m━━━━━━━━━━━━━━━━━━━━\u001b[0m\u001b[37m\u001b[0m \u001b[1m0s\u001b[0m 16ms/step - accuracy: 1.0000 - loss: 0.3825\n",
      "Epoch 54/100\n",
      "\u001b[1m12/12\u001b[0m \u001b[32m━━━━━━━━━━━━━━━━━━━━\u001b[0m\u001b[37m\u001b[0m \u001b[1m0s\u001b[0m 16ms/step - accuracy: 0.9991 - loss: 0.3903\n",
      "Epoch 55/100\n",
      "\u001b[1m12/12\u001b[0m \u001b[32m━━━━━━━━━━━━━━━━━━━━\u001b[0m\u001b[37m\u001b[0m \u001b[1m0s\u001b[0m 16ms/step - accuracy: 1.0000 - loss: 0.3534\n",
      "Epoch 56/100\n",
      "\u001b[1m12/12\u001b[0m \u001b[32m━━━━━━━━━━━━━━━━━━━━\u001b[0m\u001b[37m\u001b[0m \u001b[1m0s\u001b[0m 16ms/step - accuracy: 1.0000 - loss: 0.3457\n",
      "Epoch 57/100\n",
      "\u001b[1m12/12\u001b[0m \u001b[32m━━━━━━━━━━━━━━━━━━━━\u001b[0m\u001b[37m\u001b[0m \u001b[1m0s\u001b[0m 16ms/step - accuracy: 0.9967 - loss: 0.3234\n",
      "Epoch 58/100\n",
      "\u001b[1m12/12\u001b[0m \u001b[32m━━━━━━━━━━━━━━━━━━━━\u001b[0m\u001b[37m\u001b[0m \u001b[1m0s\u001b[0m 16ms/step - accuracy: 0.9985 - loss: 0.3160\n",
      "Epoch 59/100\n",
      "\u001b[1m12/12\u001b[0m \u001b[32m━━━━━━━━━━━━━━━━━━━━\u001b[0m\u001b[37m\u001b[0m \u001b[1m0s\u001b[0m 16ms/step - accuracy: 1.0000 - loss: 0.2949\n",
      "Epoch 60/100\n",
      "\u001b[1m12/12\u001b[0m \u001b[32m━━━━━━━━━━━━━━━━━━━━\u001b[0m\u001b[37m\u001b[0m \u001b[1m0s\u001b[0m 16ms/step - accuracy: 1.0000 - loss: 0.2875\n",
      "Epoch 61/100\n",
      "\u001b[1m12/12\u001b[0m \u001b[32m━━━━━━━━━━━━━━━━━━━━\u001b[0m\u001b[37m\u001b[0m \u001b[1m0s\u001b[0m 16ms/step - accuracy: 1.0000 - loss: 0.2699\n",
      "Epoch 62/100\n",
      "\u001b[1m12/12\u001b[0m \u001b[32m━━━━━━━━━━━━━━━━━━━━\u001b[0m\u001b[37m\u001b[0m \u001b[1m0s\u001b[0m 16ms/step - accuracy: 1.0000 - loss: 0.2657\n",
      "Epoch 63/100\n",
      "\u001b[1m12/12\u001b[0m \u001b[32m━━━━━━━━━━━━━━━━━━━━\u001b[0m\u001b[37m\u001b[0m \u001b[1m0s\u001b[0m 16ms/step - accuracy: 0.9985 - loss: 0.2452\n",
      "Epoch 64/100\n",
      "\u001b[1m12/12\u001b[0m \u001b[32m━━━━━━━━━━━━━━━━━━━━\u001b[0m\u001b[37m\u001b[0m \u001b[1m0s\u001b[0m 16ms/step - accuracy: 1.0000 - loss: 0.2531\n",
      "Epoch 65/100\n",
      "\u001b[1m12/12\u001b[0m \u001b[32m━━━━━━━━━━━━━━━━━━━━\u001b[0m\u001b[37m\u001b[0m \u001b[1m0s\u001b[0m 16ms/step - accuracy: 1.0000 - loss: 0.2347\n",
      "Epoch 66/100\n",
      "\u001b[1m12/12\u001b[0m \u001b[32m━━━━━━━━━━━━━━━━━━━━\u001b[0m\u001b[37m\u001b[0m \u001b[1m0s\u001b[0m 16ms/step - accuracy: 1.0000 - loss: 0.2200\n",
      "Epoch 67/100\n",
      "\u001b[1m12/12\u001b[0m \u001b[32m━━━━━━━━━━━━━━━━━━━━\u001b[0m\u001b[37m\u001b[0m \u001b[1m0s\u001b[0m 17ms/step - accuracy: 1.0000 - loss: 0.2143\n",
      "Epoch 68/100\n",
      "\u001b[1m12/12\u001b[0m \u001b[32m━━━━━━━━━━━━━━━━━━━━\u001b[0m\u001b[37m\u001b[0m \u001b[1m0s\u001b[0m 16ms/step - accuracy: 1.0000 - loss: 0.2063\n",
      "Epoch 69/100\n",
      "\u001b[1m12/12\u001b[0m \u001b[32m━━━━━━━━━━━━━━━━━━━━\u001b[0m\u001b[37m\u001b[0m \u001b[1m0s\u001b[0m 16ms/step - accuracy: 1.0000 - loss: 0.2012\n",
      "Epoch 70/100\n",
      "\u001b[1m12/12\u001b[0m \u001b[32m━━━━━━━━━━━━━━━━━━━━\u001b[0m\u001b[37m\u001b[0m \u001b[1m0s\u001b[0m 16ms/step - accuracy: 1.0000 - loss: 0.1844\n",
      "Epoch 71/100\n",
      "\u001b[1m12/12\u001b[0m \u001b[32m━━━━━━━━━━━━━━━━━━━━\u001b[0m\u001b[37m\u001b[0m \u001b[1m0s\u001b[0m 16ms/step - accuracy: 1.0000 - loss: 0.1779\n",
      "Epoch 72/100\n",
      "\u001b[1m12/12\u001b[0m \u001b[32m━━━━━━━━━━━━━━━━━━━━\u001b[0m\u001b[37m\u001b[0m \u001b[1m0s\u001b[0m 19ms/step - accuracy: 1.0000 - loss: 0.1726\n",
      "Epoch 73/100\n",
      "\u001b[1m12/12\u001b[0m \u001b[32m━━━━━━━━━━━━━━━━━━━━\u001b[0m\u001b[37m\u001b[0m \u001b[1m0s\u001b[0m 17ms/step - accuracy: 1.0000 - loss: 0.1666\n",
      "Epoch 74/100\n",
      "\u001b[1m12/12\u001b[0m \u001b[32m━━━━━━━━━━━━━━━━━━━━\u001b[0m\u001b[37m\u001b[0m \u001b[1m0s\u001b[0m 16ms/step - accuracy: 1.0000 - loss: 0.1628\n",
      "Epoch 75/100\n",
      "\u001b[1m12/12\u001b[0m \u001b[32m━━━━━━━━━━━━━━━━━━━━\u001b[0m\u001b[37m\u001b[0m \u001b[1m0s\u001b[0m 16ms/step - accuracy: 1.0000 - loss: 0.1509\n",
      "Epoch 76/100\n",
      "\u001b[1m12/12\u001b[0m \u001b[32m━━━━━━━━━━━━━━━━━━━━\u001b[0m\u001b[37m\u001b[0m \u001b[1m0s\u001b[0m 16ms/step - accuracy: 1.0000 - loss: 0.1470\n",
      "Epoch 77/100\n",
      "\u001b[1m12/12\u001b[0m \u001b[32m━━━━━━━━━━━━━━━━━━━━\u001b[0m\u001b[37m\u001b[0m \u001b[1m0s\u001b[0m 16ms/step - accuracy: 1.0000 - loss: 0.1502\n",
      "Epoch 78/100\n",
      "\u001b[1m12/12\u001b[0m \u001b[32m━━━━━━━━━━━━━━━━━━━━\u001b[0m\u001b[37m\u001b[0m \u001b[1m0s\u001b[0m 16ms/step - accuracy: 1.0000 - loss: 0.1409\n",
      "Epoch 79/100\n",
      "\u001b[1m12/12\u001b[0m \u001b[32m━━━━━━━━━━━━━━━━━━━━\u001b[0m\u001b[37m\u001b[0m \u001b[1m0s\u001b[0m 16ms/step - accuracy: 1.0000 - loss: 0.1365\n",
      "Epoch 80/100\n",
      "\u001b[1m12/12\u001b[0m \u001b[32m━━━━━━━━━━━━━━━━━━━━\u001b[0m\u001b[37m\u001b[0m \u001b[1m0s\u001b[0m 16ms/step - accuracy: 1.0000 - loss: 0.1300\n",
      "Epoch 81/100\n",
      "\u001b[1m12/12\u001b[0m \u001b[32m━━━━━━━━━━━━━━━━━━━━\u001b[0m\u001b[37m\u001b[0m \u001b[1m0s\u001b[0m 16ms/step - accuracy: 1.0000 - loss: 0.1296\n",
      "Epoch 82/100\n",
      "\u001b[1m12/12\u001b[0m \u001b[32m━━━━━━━━━━━━━━━━━━━━\u001b[0m\u001b[37m\u001b[0m \u001b[1m0s\u001b[0m 16ms/step - accuracy: 1.0000 - loss: 0.1254\n",
      "Epoch 83/100\n",
      "\u001b[1m12/12\u001b[0m \u001b[32m━━━━━━━━━━━━━━━━━━━━\u001b[0m\u001b[37m\u001b[0m \u001b[1m0s\u001b[0m 16ms/step - accuracy: 1.0000 - loss: 0.1150\n",
      "Epoch 84/100\n",
      "\u001b[1m12/12\u001b[0m \u001b[32m━━━━━━━━━━━━━━━━━━━━\u001b[0m\u001b[37m\u001b[0m \u001b[1m0s\u001b[0m 16ms/step - accuracy: 1.0000 - loss: 0.1162\n",
      "Epoch 85/100\n",
      "\u001b[1m12/12\u001b[0m \u001b[32m━━━━━━━━━━━━━━━━━━━━\u001b[0m\u001b[37m\u001b[0m \u001b[1m0s\u001b[0m 16ms/step - accuracy: 1.0000 - loss: 0.1092\n",
      "Epoch 86/100\n",
      "\u001b[1m12/12\u001b[0m \u001b[32m━━━━━━━━━━━━━━━━━━━━\u001b[0m\u001b[37m\u001b[0m \u001b[1m0s\u001b[0m 16ms/step - accuracy: 1.0000 - loss: 0.1073\n",
      "Epoch 87/100\n",
      "\u001b[1m12/12\u001b[0m \u001b[32m━━━━━━━━━━━━━━━━━━━━\u001b[0m\u001b[37m\u001b[0m \u001b[1m0s\u001b[0m 16ms/step - accuracy: 1.0000 - loss: 0.1039\n",
      "Epoch 88/100\n",
      "\u001b[1m12/12\u001b[0m \u001b[32m━━━━━━━━━━━━━━━━━━━━\u001b[0m\u001b[37m\u001b[0m \u001b[1m0s\u001b[0m 16ms/step - accuracy: 1.0000 - loss: 0.1004\n",
      "Epoch 89/100\n",
      "\u001b[1m12/12\u001b[0m \u001b[32m━━━━━━━━━━━━━━━━━━━━\u001b[0m\u001b[37m\u001b[0m \u001b[1m0s\u001b[0m 16ms/step - accuracy: 1.0000 - loss: 0.0978\n",
      "Epoch 90/100\n",
      "\u001b[1m12/12\u001b[0m \u001b[32m━━━━━━━━━━━━━━━━━━━━\u001b[0m\u001b[37m\u001b[0m \u001b[1m0s\u001b[0m 16ms/step - accuracy: 1.0000 - loss: 0.0975\n",
      "Epoch 91/100\n",
      "\u001b[1m12/12\u001b[0m \u001b[32m━━━━━━━━━━━━━━━━━━━━\u001b[0m\u001b[37m\u001b[0m \u001b[1m0s\u001b[0m 16ms/step - accuracy: 1.0000 - loss: 0.0903\n",
      "Epoch 92/100\n",
      "\u001b[1m12/12\u001b[0m \u001b[32m━━━━━━━━━━━━━━━━━━━━\u001b[0m\u001b[37m\u001b[0m \u001b[1m0s\u001b[0m 16ms/step - accuracy: 1.0000 - loss: 0.0922\n",
      "Epoch 93/100\n",
      "\u001b[1m12/12\u001b[0m \u001b[32m━━━━━━━━━━━━━━━━━━━━\u001b[0m\u001b[37m\u001b[0m \u001b[1m0s\u001b[0m 16ms/step - accuracy: 1.0000 - loss: 0.0864\n",
      "Epoch 94/100\n",
      "\u001b[1m12/12\u001b[0m \u001b[32m━━━━━━━━━━━━━━━━━━━━\u001b[0m\u001b[37m\u001b[0m \u001b[1m0s\u001b[0m 16ms/step - accuracy: 1.0000 - loss: 0.0837\n",
      "Epoch 95/100\n",
      "\u001b[1m12/12\u001b[0m \u001b[32m━━━━━━━━━━━━━━━━━━━━\u001b[0m\u001b[37m\u001b[0m \u001b[1m0s\u001b[0m 18ms/step - accuracy: 1.0000 - loss: 0.0836\n",
      "Epoch 96/100\n",
      "\u001b[1m12/12\u001b[0m \u001b[32m━━━━━━━━━━━━━━━━━━━━\u001b[0m\u001b[37m\u001b[0m \u001b[1m0s\u001b[0m 17ms/step - accuracy: 1.0000 - loss: 0.0792\n",
      "Epoch 97/100\n",
      "\u001b[1m12/12\u001b[0m \u001b[32m━━━━━━━━━━━━━━━━━━━━\u001b[0m\u001b[37m\u001b[0m \u001b[1m0s\u001b[0m 17ms/step - accuracy: 1.0000 - loss: 0.0780\n",
      "Epoch 98/100\n",
      "\u001b[1m12/12\u001b[0m \u001b[32m━━━━━━━━━━━━━━━━━━━━\u001b[0m\u001b[37m\u001b[0m \u001b[1m0s\u001b[0m 16ms/step - accuracy: 1.0000 - loss: 0.0766\n",
      "Epoch 99/100\n",
      "\u001b[1m12/12\u001b[0m \u001b[32m━━━━━━━━━━━━━━━━━━━━\u001b[0m\u001b[37m\u001b[0m \u001b[1m0s\u001b[0m 16ms/step - accuracy: 1.0000 - loss: 0.0780\n",
      "Epoch 100/100\n",
      "\u001b[1m12/12\u001b[0m \u001b[32m━━━━━━━━━━━━━━━━━━━━\u001b[0m\u001b[37m\u001b[0m \u001b[1m0s\u001b[0m 16ms/step - accuracy: 1.0000 - loss: 0.0701\n"
     ]
    },
    {
     "data": {
      "text/plain": [
       "<keras.src.callbacks.history.History at 0x7b41280711d0>"
      ]
     },
     "execution_count": 18,
     "metadata": {},
     "output_type": "execute_result"
    }
   ],
   "source": [
    "model.fit(X,y,epochs=100,verbose=1)"
   ]
  },
  {
   "cell_type": "code",
   "execution_count": 19,
   "metadata": {
    "colab": {
     "base_uri": "https://localhost:8080/",
     "height": 0
    },
    "execution": {
     "iopub.execute_input": "2025-06-01T08:19:55.825135Z",
     "iopub.status.busy": "2025-06-01T08:19:55.824903Z",
     "iopub.status.idle": "2025-06-01T08:19:56.826193Z",
     "shell.execute_reply": "2025-06-01T08:19:56.825635Z",
     "shell.execute_reply.started": "2025-06-01T08:19:55.825117Z"
    },
    "id": "rbkOVBLqkqjM",
    "outputId": "9adc7f5b-aab8-4a35-b86d-63bc2d9758bd"
   },
   "outputs": [
    {
     "name": "stdout",
     "output_type": "stream",
     "text": [
      "[11, 9, 6]\n",
      "\u001b[1m1/1\u001b[0m \u001b[32m━━━━━━━━━━━━━━━━━━━━\u001b[0m\u001b[37m\u001b[0m \u001b[1m0s\u001b[0m 189ms/step\n",
      "[11, 9, 6, 7]\n",
      "\u001b[1m1/1\u001b[0m \u001b[32m━━━━━━━━━━━━━━━━━━━━\u001b[0m\u001b[37m\u001b[0m \u001b[1m0s\u001b[0m 36ms/step\n",
      "[11, 9, 6, 7, 10]\n",
      "\u001b[1m1/1\u001b[0m \u001b[32m━━━━━━━━━━━━━━━━━━━━\u001b[0m\u001b[37m\u001b[0m \u001b[1m0s\u001b[0m 36ms/step\n",
      "[11, 9, 6, 7, 10, 5]\n",
      "\u001b[1m1/1\u001b[0m \u001b[32m━━━━━━━━━━━━━━━━━━━━\u001b[0m\u001b[37m\u001b[0m \u001b[1m0s\u001b[0m 37ms/step\n",
      "[11, 9, 6, 7, 10, 5, 39]\n",
      "\u001b[1m1/1\u001b[0m \u001b[32m━━━━━━━━━━━━━━━━━━━━\u001b[0m\u001b[37m\u001b[0m \u001b[1m0s\u001b[0m 35ms/step\n",
      "[11, 9, 6, 7, 10, 5, 39, 1]\n",
      "\u001b[1m1/1\u001b[0m \u001b[32m━━━━━━━━━━━━━━━━━━━━\u001b[0m\u001b[37m\u001b[0m \u001b[1m0s\u001b[0m 38ms/step\n",
      "[11, 9, 6, 7, 10, 5, 39, 1, 40]\n",
      "\u001b[1m1/1\u001b[0m \u001b[32m━━━━━━━━━━━━━━━━━━━━\u001b[0m\u001b[37m\u001b[0m \u001b[1m0s\u001b[0m 36ms/step\n",
      "[11, 9, 6, 7, 10, 5, 39, 1, 40, 41]\n",
      "\u001b[1m1/1\u001b[0m \u001b[32m━━━━━━━━━━━━━━━━━━━━\u001b[0m\u001b[37m\u001b[0m \u001b[1m0s\u001b[0m 36ms/step\n",
      "[11, 9, 6, 7, 10, 5, 39, 1, 40, 41, 42]\n",
      "\u001b[1m1/1\u001b[0m \u001b[32m━━━━━━━━━━━━━━━━━━━━\u001b[0m\u001b[37m\u001b[0m \u001b[1m0s\u001b[0m 37ms/step\n",
      "[11, 9, 6, 7, 10, 5, 39, 1, 40, 41, 42, 12]\n",
      "\u001b[1m1/1\u001b[0m \u001b[32m━━━━━━━━━━━━━━━━━━━━\u001b[0m\u001b[37m\u001b[0m \u001b[1m0s\u001b[0m 36ms/step\n",
      "Indian higher education system is a vast and intricate network comprising universities colleges\n"
     ]
    }
   ],
   "source": [
    "input_text = \"Indian higher education\"\n",
    "predict_next_words= 10\n",
    "for _ in range(predict_next_words):\n",
    "    token_list = myTokenizer.texts_to_sequences([input_text])[0]\n",
    "    print(token_list)\n",
    "    token_list = pad_sequences([token_list],\n",
    "                               maxlen=max_sequence_len-1, padding='pre')\n",
    "    predicted = np.argmax(model.predict(token_list), axis=-1)\n",
    "    output_word = \"\"\n",
    "    for word, index in myTokenizer.word_index.items():\n",
    "        if index == predicted:\n",
    "            output_word = word\n",
    "            break\n",
    "    input_text += \" \" + output_word\n",
    "print(input_text)"
   ]
  },
  {
   "cell_type": "code",
   "execution_count": null,
   "metadata": {
    "id": "C9Ymvd6YY9cN"
   },
   "outputs": [],
   "source": []
  }
 ],
 "metadata": {
  "accelerator": "GPU",
  "colab": {
   "gpuType": "T4",
   "provenance": []
  },
  "kaggle": {
   "accelerator": "nvidiaTeslaT4",
   "dataSources": [
    {
     "datasetId": 7550385,
     "sourceId": 12002635,
     "sourceType": "datasetVersion"
    }
   ],
   "dockerImageVersionId": 31041,
   "isGpuEnabled": true,
   "isInternetEnabled": true,
   "language": "python",
   "sourceType": "notebook"
  },
  "kernelspec": {
   "display_name": "Python 3 (ipykernel)",
   "language": "python",
   "name": "python3"
  },
  "language_info": {
   "codemirror_mode": {
    "name": "ipython",
    "version": 3
   },
   "file_extension": ".py",
   "mimetype": "text/x-python",
   "name": "python",
   "nbconvert_exporter": "python",
   "pygments_lexer": "ipython3",
   "version": "3.12.7"
  }
 },
 "nbformat": 4,
 "nbformat_minor": 4
}
